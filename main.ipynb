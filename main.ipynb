{
 "cells": [
  {
   "cell_type": "code",
   "execution_count": 1,
   "id": "db9bbee53decd803",
   "metadata": {
    "ExecuteTime": {
     "end_time": "2024-05-19T22:35:25.756131Z",
     "start_time": "2024-05-19T22:35:22.178178Z"
    },
    "collapsed": false
   },
   "outputs": [
    {
     "name": "stdout",
     "output_type": "stream",
     "text": [
      "1\n",
      "1\n",
      "2\n",
      "2\n",
      "1\n",
      "1\n",
      "1\n"
     ]
    },
    {
     "ename": "KeyboardInterrupt",
     "evalue": "",
     "output_type": "error",
     "traceback": [
      "\u001b[1;31m---------------------------------------------------------------------------\u001b[0m",
      "\u001b[1;31mKeyboardInterrupt\u001b[0m                         Traceback (most recent call last)",
      "Cell \u001b[1;32mIn[1], line 40\u001b[0m\n\u001b[0;32m     37\u001b[0m \u001b[38;5;28;01mif\u001b[39;00m \u001b[38;5;129;01mnot\u001b[39;00m ret:\n\u001b[0;32m     38\u001b[0m     \u001b[38;5;28;01mbreak\u001b[39;00m\n\u001b[1;32m---> 40\u001b[0m classes, scores, boxes \u001b[38;5;241m=\u001b[39m \u001b[43mmodel\u001b[49m\u001b[38;5;241;43m.\u001b[39;49m\u001b[43mdetect\u001b[49m\u001b[43m(\u001b[49m\u001b[43mframe\u001b[49m\u001b[43m,\u001b[49m\u001b[43m \u001b[49m\u001b[38;5;241;43m0.01\u001b[39;49m\u001b[43m,\u001b[49m\u001b[43m \u001b[49m\u001b[38;5;241;43m0.2\u001b[39;49m\u001b[43m)\u001b[49m\n\u001b[0;32m     42\u001b[0m \u001b[38;5;28;01mfor\u001b[39;00m (class_id, score, box) \u001b[38;5;129;01min\u001b[39;00m \u001b[38;5;28mzip\u001b[39m(classes, scores, boxes):\n\u001b[0;32m     43\u001b[0m     \u001b[38;5;28;01mtry\u001b[39;00m:\n",
      "\u001b[1;31mKeyboardInterrupt\u001b[0m: "
     ]
    }
   ],
   "source": [
    "import cv2\n",
    "import time\n",
    "\n",
    "# Define a cor das caixas delimitadoras\n",
    "colors = ('red', 'green', 'blue', '')\n",
    "class_names = []\n",
    "\n",
    "with open(\"coco.names\", \"r\") as f:\n",
    "    class_names = [cname.strip() for cname in f.readlines()]\n",
    "\n",
    "# Captura de vídeo\n",
    "cap = cv2.VideoCapture(\"avenida.mp4\")\n",
    "\n",
    "# Carregando pesos da rede neural\n",
    "net = cv2.dnn.readNet(\"yolov4.weights\", \"yolov4.cfg\")\n",
    "\n",
    "# Configurar para uso da GPU\n",
    "net.setPreferableBackend(cv2.dnn.DNN_BACKEND_CUDA)\n",
    "net.setPreferableTarget(cv2.dnn.DNN_TARGET_CUDA)\n",
    "\n",
    "# Setando parâmetros\n",
    "model = cv2.dnn.DetectionModel(net)\n",
    "model.setInputParams(size=(416, 416), scale=1/255)\n",
    "\n",
    "carCounter = 0\n",
    "line_position = 500  # Define a posição da linha horizontal (ajuste conforme necessário)\n",
    "\n",
    "# Função para verificar se uma caixa cruzou a linha\n",
    "def crossed_the_line(box, line_position):\n",
    "    x, y, w, h = box\n",
    "    return y < line_position < y + h\n",
    "\n",
    "# Lendo frames do vídeo\n",
    "while True:\n",
    "    start_time = time.time()\n",
    "    ret, frame = cap.read()\n",
    "    if not ret:\n",
    "        break\n",
    "\n",
    "    classes, scores, boxes = model.detect(frame, 0.01, 0.2)\n",
    "    \n",
    "    for (class_id, score, box) in zip(classes, scores, boxes):\n",
    "        try:\n",
    "            label = f\"{class_names[class_id]}: {score:.2f}\"\n",
    "        except:\n",
    "            print(0)\n",
    "        if class_id == 0:  # ID da classe para 'carro'\n",
    "\n",
    "            carCounter += 1\n",
    "\n",
    "        # Desenhar caixas delimitadoras\n",
    "        color = (255, 10, 10)\n",
    "        cv2.rectangle(frame, box, (255, 10, 10), 2)\n",
    "        cv2.putText(frame, label, (box[0], box[1] - 10), cv2.FONT_HERSHEY_SIMPLEX, 0.5, color, 1)\n",
    "\n",
    "    # Desenhar a linha de contagem\n",
    "    cv2.line(frame, (0, line_position), (frame.shape[1], line_position), (0, 255, 255), 2)\n",
    "    \n",
    "    # Mostrar contagem de carros\n",
    "    cv2.putText(frame, f\"Carros: {carCounter}\", (130, 20), cv2.FONT_HERSHEY_SIMPLEX, 1, (255, 255, 255), 2)\n",
    "\n",
    "    end_time = time.time()\n",
    "    fps_label = f\"Tempo do frame: {(end_time - start_time):.2f}s\"\n",
    "    cv2.putText(frame, fps_label, (130, 40), cv2.FONT_HERSHEY_SIMPLEX, 0.5, (255, 255, 255), 2)\n",
    "    #cv2.rectangle(frame, (100,100),(540,0), (0, 0, 0), -1)\n",
    "    print(carCounter)\n",
    "    carCounter=0\n",
    "\n",
    "    cv2.imshow('frame', frame)\n",
    "\n",
    "    # Condição de término do loop\n",
    "    if cv2.waitKey(1) & 0xFF == ord('q'):\n",
    "        break\n",
    "\n",
    "# Liberando os recursos\n",
    "cap.release()\n",
    "cv2.destroyAllWindows()\n"
   ]
  },
  {
   "cell_type": "markdown",
   "id": "c90632ad",
   "metadata": {},
   "source": []
  },
  {
   "cell_type": "code",
   "execution_count": 6,
   "id": "dae5f431",
   "metadata": {},
   "outputs": [
    {
     "name": "stdout",
     "output_type": "stream",
     "text": [
      "0\n"
     ]
    }
   ],
   "source": [
    "import cv2\n",
    "count = cv2.cuda.getCudaEnabledDeviceCount()\n",
    "print(count)"
   ]
  },
  {
   "cell_type": "code",
   "execution_count": null,
   "id": "754deaac3e398d3f",
   "metadata": {
    "collapsed": false
   },
   "outputs": [],
   "source": []
  }
 ],
 "metadata": {
  "kernelspec": {
   "display_name": "Python 3",
   "language": "python",
   "name": "python3"
  },
  "language_info": {
   "codemirror_mode": {
    "name": "ipython",
    "version": 3
   },
   "file_extension": ".py",
   "mimetype": "text/x-python",
   "name": "python",
   "nbconvert_exporter": "python",
   "pygments_lexer": "ipython3",
   "version": "3.12.1"
  }
 },
 "nbformat": 4,
 "nbformat_minor": 5
}
